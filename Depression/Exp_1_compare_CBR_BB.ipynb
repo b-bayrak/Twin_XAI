{
 "cells": [
  {
   "cell_type": "markdown",
   "metadata": {},
   "source": [
    "\n",
    "## Exp_1_compare_CBR_BB\n",
    "Compare CBR Systems' performance with Black-box models\n",
    "\n",
    "Experiments:\n",
    "\n",
    "    1- Performance evaluation of black-box model with raw data  \n",
    "    \n",
    "    2- Performance evaluation of black-box model with over-sampled data \n",
    "    \n",
    "    3- Performance evaluation of CBR system with raw data \n",
    "    \n",
    "    4- Performance evaluation of CBR system with over-sampled data\n"
   ]
  },
  {
   "cell_type": "code",
   "execution_count": 1,
   "metadata": {},
   "outputs": [],
   "source": [
    "#!pip install shap"
   ]
  },
  {
   "cell_type": "code",
   "execution_count": 2,
   "metadata": {},
   "outputs": [],
   "source": [
    "# import required packages\n",
    "import pandas as pd\n",
    "import numpy as np\n",
    "\n",
    "import shap\n",
    "import joblib\n",
    "import dice_ml\n",
    "\n",
    "import seaborn as sns\n",
    "\n",
    "from sklearn.model_selection import train_test_split\n",
    "from imblearn.over_sampling import SMOTE\n",
    "from sklearn.neural_network import MLPClassifier\n",
    "from sklearn.metrics import precision_recall_fscore_support, classification_report, confusion_matrix, plot_confusion_matrix\n",
    "\n",
    "from pandas import json_normalize\n",
    "import warnings\n",
    "import requests\n",
    "from requests import get\n",
    "import random\n",
    "\n",
    "from mycbr_py_api import MyCBRRestApi as mycbr"
   ]
  },
  {
   "cell_type": "code",
   "execution_count": 3,
   "metadata": {},
   "outputs": [
    {
     "name": "stdout",
     "output_type": "stream",
     "text": [
      "seed 60\n"
     ]
    }
   ],
   "source": [
    "random_state = 60#random.randint(0, 100)\n",
    "print('seed', random_state)\n",
    "warnings.filterwarnings(\"ignore\")"
   ]
  },
  {
   "cell_type": "markdown",
   "metadata": {},
   "source": [
    "#### Data preprocessing for experiments"
   ]
  },
  {
   "cell_type": "code",
   "execution_count": 4,
   "metadata": {},
   "outputs": [],
   "source": [
    "# Read provided data set\n",
    "df = pd.read_csv(\"./data/Dataset_MO_ENG.csv\")\n",
    "\n",
    "# Map classes accordingly\n",
    "dic = { 1: 0 , 2: 0, 3:1, 4:2, 5:2} \n",
    "df['Target'] = df['Target'].map(dic)\n",
    "\n",
    "# Eliminating physical-related questions\n",
    "df = df.drop(df.columns[102:-1], axis=1)  "
   ]
  },
  {
   "cell_type": "code",
   "execution_count": 5,
   "metadata": {},
   "outputs": [
    {
     "data": {
      "text/html": [
       "<div>\n",
       "<style scoped>\n",
       "    .dataframe tbody tr th:only-of-type {\n",
       "        vertical-align: middle;\n",
       "    }\n",
       "\n",
       "    .dataframe tbody tr th {\n",
       "        vertical-align: top;\n",
       "    }\n",
       "\n",
       "    .dataframe thead th {\n",
       "        text-align: right;\n",
       "    }\n",
       "</style>\n",
       "<table border=\"1\" class=\"dataframe\">\n",
       "  <thead>\n",
       "    <tr style=\"text-align: right;\">\n",
       "      <th></th>\n",
       "      <th>t0</th>\n",
       "      <th>t1</th>\n",
       "      <th>t2</th>\n",
       "      <th>t3</th>\n",
       "      <th>t4</th>\n",
       "      <th>t5</th>\n",
       "      <th>t6</th>\n",
       "      <th>t7</th>\n",
       "      <th>t8</th>\n",
       "      <th>t9</th>\n",
       "      <th>...</th>\n",
       "      <th>t92</th>\n",
       "      <th>t93</th>\n",
       "      <th>t94</th>\n",
       "      <th>t95</th>\n",
       "      <th>t96</th>\n",
       "      <th>t97</th>\n",
       "      <th>t98</th>\n",
       "      <th>t99</th>\n",
       "      <th>t100</th>\n",
       "      <th>t101</th>\n",
       "    </tr>\n",
       "  </thead>\n",
       "  <tbody>\n",
       "    <tr>\n",
       "      <th>0</th>\n",
       "      <td>1</td>\n",
       "      <td>1</td>\n",
       "      <td>0</td>\n",
       "      <td>1</td>\n",
       "      <td>0</td>\n",
       "      <td>1</td>\n",
       "      <td>1</td>\n",
       "      <td>1</td>\n",
       "      <td>0</td>\n",
       "      <td>0</td>\n",
       "      <td>...</td>\n",
       "      <td>0</td>\n",
       "      <td>1</td>\n",
       "      <td>1</td>\n",
       "      <td>0</td>\n",
       "      <td>0</td>\n",
       "      <td>1</td>\n",
       "      <td>0</td>\n",
       "      <td>1</td>\n",
       "      <td>0</td>\n",
       "      <td>1</td>\n",
       "    </tr>\n",
       "    <tr>\n",
       "      <th>1</th>\n",
       "      <td>1</td>\n",
       "      <td>0</td>\n",
       "      <td>1</td>\n",
       "      <td>1</td>\n",
       "      <td>0</td>\n",
       "      <td>1</td>\n",
       "      <td>1</td>\n",
       "      <td>1</td>\n",
       "      <td>0</td>\n",
       "      <td>0</td>\n",
       "      <td>...</td>\n",
       "      <td>0</td>\n",
       "      <td>0</td>\n",
       "      <td>1</td>\n",
       "      <td>0</td>\n",
       "      <td>0</td>\n",
       "      <td>1</td>\n",
       "      <td>0</td>\n",
       "      <td>1</td>\n",
       "      <td>1</td>\n",
       "      <td>0</td>\n",
       "    </tr>\n",
       "    <tr>\n",
       "      <th>2</th>\n",
       "      <td>0</td>\n",
       "      <td>0</td>\n",
       "      <td>0</td>\n",
       "      <td>0</td>\n",
       "      <td>1</td>\n",
       "      <td>1</td>\n",
       "      <td>1</td>\n",
       "      <td>0</td>\n",
       "      <td>0</td>\n",
       "      <td>1</td>\n",
       "      <td>...</td>\n",
       "      <td>0</td>\n",
       "      <td>0</td>\n",
       "      <td>1</td>\n",
       "      <td>0</td>\n",
       "      <td>0</td>\n",
       "      <td>1</td>\n",
       "      <td>0</td>\n",
       "      <td>1</td>\n",
       "      <td>0</td>\n",
       "      <td>1</td>\n",
       "    </tr>\n",
       "    <tr>\n",
       "      <th>3</th>\n",
       "      <td>0</td>\n",
       "      <td>0</td>\n",
       "      <td>0</td>\n",
       "      <td>1</td>\n",
       "      <td>0</td>\n",
       "      <td>1</td>\n",
       "      <td>1</td>\n",
       "      <td>1</td>\n",
       "      <td>1</td>\n",
       "      <td>0</td>\n",
       "      <td>...</td>\n",
       "      <td>0</td>\n",
       "      <td>0</td>\n",
       "      <td>1</td>\n",
       "      <td>0</td>\n",
       "      <td>1</td>\n",
       "      <td>1</td>\n",
       "      <td>0</td>\n",
       "      <td>1</td>\n",
       "      <td>0</td>\n",
       "      <td>1</td>\n",
       "    </tr>\n",
       "    <tr>\n",
       "      <th>4</th>\n",
       "      <td>1</td>\n",
       "      <td>1</td>\n",
       "      <td>0</td>\n",
       "      <td>1</td>\n",
       "      <td>0</td>\n",
       "      <td>1</td>\n",
       "      <td>0</td>\n",
       "      <td>1</td>\n",
       "      <td>1</td>\n",
       "      <td>1</td>\n",
       "      <td>...</td>\n",
       "      <td>0</td>\n",
       "      <td>0</td>\n",
       "      <td>1</td>\n",
       "      <td>0</td>\n",
       "      <td>0</td>\n",
       "      <td>1</td>\n",
       "      <td>0</td>\n",
       "      <td>1</td>\n",
       "      <td>0</td>\n",
       "      <td>0</td>\n",
       "    </tr>\n",
       "  </tbody>\n",
       "</table>\n",
       "<p>5 rows × 102 columns</p>\n",
       "</div>"
      ],
      "text/plain": [
       "   t0  t1  t2  t3  t4  t5  t6  t7  t8  t9  ...  t92  t93  t94  t95  t96  t97  \\\n",
       "0   1   1   0   1   0   1   1   1   0   0  ...    0    1    1    0    0    1   \n",
       "1   1   0   1   1   0   1   1   1   0   0  ...    0    0    1    0    0    1   \n",
       "2   0   0   0   0   1   1   1   0   0   1  ...    0    0    1    0    0    1   \n",
       "3   0   0   0   1   0   1   1   1   1   0  ...    0    0    1    0    1    1   \n",
       "4   1   1   0   1   0   1   0   1   1   1  ...    0    0    1    0    0    1   \n",
       "\n",
       "   t98  t99  t100  t101  \n",
       "0    0    1     0     1  \n",
       "1    0    1     1     0  \n",
       "2    0    1     0     1  \n",
       "3    0    1     0     1  \n",
       "4    0    1     0     0  \n",
       "\n",
       "[5 rows x 102 columns]"
      ]
     },
     "execution_count": 5,
     "metadata": {},
     "output_type": "execute_result"
    }
   ],
   "source": [
    "# Identifying target feature and other features\n",
    "train_cols = df.columns[0:-1]\n",
    "label = df.columns[-1]\n",
    "X = df[train_cols]\n",
    "y = df[label]\n",
    "\n",
    "# Rename the feature names to make it easier\n",
    "X.columns = ['t' + str(i) for i in range(len(X.columns.to_list()))]\n",
    "X.head()"
   ]
  },
  {
   "cell_type": "code",
   "execution_count": 6,
   "metadata": {},
   "outputs": [],
   "source": [
    "# Raw split of dataset \n",
    "X_train, X_test, y_train, y_test = train_test_split(X, y, test_size=0.2, random_state=random_state)  \n",
    "\n",
    "train = X_train.join(y_train)\n",
    "test = X_test.join(y_test)\n",
    "\n",
    "# Raw training data\n",
    "train.to_csv('./data/train.csv',index=False) \n",
    "# Raw testing data\n",
    "test.to_csv('./data/test.csv',index=False)\n",
    "\n",
    "\n",
    "# Over-sampling the train set \n",
    "oversample = SMOTE(random_state=random_state,k_neighbors=5)\n",
    "X_train_os, y_train_os = oversample.fit_resample(X_train, y_train)\n",
    "train_os = X_train_os.join(y_train_os)\n",
    "\n",
    "# Over-sampled train set\n",
    "train_os.to_csv('./data/train_oversampled.csv',index=False)"
   ]
  },
  {
   "cell_type": "code",
   "execution_count": 7,
   "metadata": {},
   "outputs": [
    {
     "name": "stdout",
     "output_type": "stream",
     "text": [
      "0    33\n",
      "1    30\n",
      "2    20\n",
      "Name: Target, dtype: int64\n",
      "2    10\n",
      "0     6\n",
      "1     5\n",
      "Name: Target, dtype: int64\n"
     ]
    }
   ],
   "source": [
    "print(y_train.value_counts())\n",
    "print(y_test.value_counts())"
   ]
  },
  {
   "cell_type": "markdown",
   "metadata": {},
   "source": [
    "### 1 & 2 - Performance evaluation of black-box model with raw  and over-sampled data \n"
   ]
  },
  {
   "cell_type": "code",
   "execution_count": 8,
   "metadata": {},
   "outputs": [
    {
     "data": {
      "text/plain": [
       "['./model/MLP_oversampled.pkl']"
      ]
     },
     "execution_count": 8,
     "metadata": {},
     "output_type": "execute_result"
    }
   ],
   "source": [
    "# Training models\n",
    "\n",
    "# Train a MLP model with raw data set (mlp)\n",
    "mlp=MLPClassifier(hidden_layer_sizes=(10,), activation='logistic', solver='adam', alpha=1, \n",
    "                learning_rate='constant', learning_rate_init=0.0001, max_iter=100000, random_state=77)\n",
    "mlp.fit(X_train, y_train)\n",
    "\n",
    "\n",
    "# Train a MLP model with oversampled data set (mlp_os)\n",
    "mlp_os=MLPClassifier(hidden_layer_sizes=(10,), activation='logistic', solver='adam', alpha=1, \n",
    "                learning_rate='constant', learning_rate_init=0.0001, max_iter=100000, random_state=77)\n",
    "mlp_os.fit(X_train_os, y_train_os)\n",
    "\n",
    "\n",
    "# Save created models\n",
    "joblib.dump(mlp,\"./model/MLP.pkl\")\n",
    "joblib.dump(mlp_os,\"./model/MLP_oversampled.pkl\")"
   ]
  },
  {
   "cell_type": "code",
   "execution_count": 9,
   "metadata": {},
   "outputs": [
    {
     "name": "stdout",
     "output_type": "stream",
     "text": [
      "              precision    recall  f1-score   support\n",
      "\n",
      "           0       0.27      0.67      0.38         6\n",
      "           1       0.20      0.20      0.20         5\n",
      "           2       0.00      0.00      0.00        10\n",
      "\n",
      "    accuracy                           0.24        21\n",
      "   macro avg       0.16      0.29      0.19        21\n",
      "weighted avg       0.12      0.24      0.16        21\n",
      "\n"
     ]
    },
    {
     "data": {
      "text/plain": [
       "<AxesSubplot:>"
      ]
     },
     "execution_count": 9,
     "metadata": {},
     "output_type": "execute_result"
    },
    {
     "data": {
      "image/png": "[encoded data removed]",
      "text/plain": [
       "<Figure size 432x288 with 2 Axes>"
      ]
     },
     "metadata": {
      "needs_background": "light"
     },
     "output_type": "display_data"
    }
   ],
   "source": [
    "# Evaluation of Black-Box models\n",
    "\n",
    "# test results for 'mlp' \n",
    "raw_model_results = mlp.predict(X_test)\n",
    "\n",
    "print(classification_report(y_test, raw_model_results))\n",
    "\n",
    "sns.heatmap(confusion_matrix(y_test, raw_model_results), annot=True, annot_kws={\"size\": 16})"
   ]
  },
  {
   "cell_type": "code",
   "execution_count": 10,
   "metadata": {},
   "outputs": [
    {
     "name": "stdout",
     "output_type": "stream",
     "text": [
      "              precision    recall  f1-score   support\n",
      "\n",
      "           0       0.50      0.67      0.57         6\n",
      "           1       0.43      0.60      0.50         5\n",
      "           2       0.83      0.50      0.62        10\n",
      "\n",
      "    accuracy                           0.57        21\n",
      "   macro avg       0.59      0.59      0.57        21\n",
      "weighted avg       0.64      0.57      0.58        21\n",
      "\n"
     ]
    },
    {
     "data": {
      "text/plain": [
       "<AxesSubplot:>"
      ]
     },
     "execution_count": 10,
     "metadata": {},
     "output_type": "execute_result"
    },
    {
     "data": {
      "image/png": "[encoded data removed]",
      "text/plain": [
       "<Figure size 432x288 with 2 Axes>"
      ]
     },
     "metadata": {
      "needs_background": "light"
     },
     "output_type": "display_data"
    }
   ],
   "source": [
    "# Evaluation of Black-Box models\n",
    "\n",
    "# test results for 'mlp_os' \n",
    "os_model_results = mlp_os.predict(X_test)\n",
    "\n",
    "print(classification_report(y_test, os_model_results))\n",
    "\n",
    "sns.heatmap(confusion_matrix(y_test, os_model_results), annot=True, annot_kws={\"size\": 16})"
   ]
  },
  {
   "cell_type": "markdown",
   "metadata": {},
   "source": [
    "##### CBR setup for experiment 3 and 4"
   ]
  },
  {
   "cell_type": "code",
   "execution_count": 11,
   "metadata": {},
   "outputs": [],
   "source": [
    "# API connection\n",
    "\n",
    "server = 'localhost'\n",
    "#server = 'user@hv-6066.idi.ntnu.no'\n",
    "\n",
    "port = '8080'\n",
    "base_url = 'http://' + server + ':' + port + '/'\n",
    "\n",
    "headers = {'Content-type':'application/json'}\n",
    "\n",
    "obj = mycbr(base_url)"
   ]
  },
  {
   "cell_type": "code",
   "execution_count": 12,
   "metadata": {},
   "outputs": [],
   "source": [
    "# Variables that are related to current CBR project\n",
    "\n",
    "# To list all concept names in the project uncomment the following line\n",
    "# print(obj.getAllConcepts())\n",
    "\n",
    "concept = 'case' "
   ]
  },
  {
   "cell_type": "code",
   "execution_count": 13,
   "metadata": {},
   "outputs": [],
   "source": [
    "# Deletes all cases from specified concept \n",
    "def delete_instances_from_concept(c):\n",
    "    response = requests.delete('http://localhost:8080/concepts/'+c+'/cases')\n",
    "    print(\"cases deleted from \" + c + \": \" + str(response.ok))\n",
    "    \n",
    "# Adds a new casebase \n",
    "def put_new_cb(newCbName):\n",
    "    requests.put(base_url + 'casebases/' + newCbName)\n",
    "    \n",
    "# Returns casebase list\n",
    "def get_casebases():\n",
    "    raw = pd.DataFrame(requests.get(base_url + 'casebases/').json())\n",
    "    casebases = pd.DataFrame.from_records(raw).values.tolist()\n",
    "    return casebases\n",
    "\n",
    "# add cases to casebase\n",
    "def add_rows_as_cases(x, c, cb):\n",
    "    case_id = 'case_' + str(x['index'])\n",
    "    x = x.drop(['Target', 'index'])\n",
    "    requests.put(base_url + 'concepts/' + c + '/casebases/' + cb +'/cases/' + case_id, data = str(x.to_json()), headers=headers)\n",
    "\n",
    "# add cases to casebase from dataframe\n",
    "def add_cases_from_df(df, c, cb):  \n",
    "    tmp = df.copy(deep=True)\n",
    "    tmp.reset_index(inplace=True)\n",
    "    tmp.apply(add_rows_as_cases, args=(c, cb), axis=1)\n",
    "    \n",
    "# Rename indices of shap values (like 't0, t1')    \n",
    "def rename_indices(idx):\n",
    "    indx = []\n",
    "    for i in range(len(idx)-1,-1,-1):\n",
    "        indx.append('t'+str(idx[i]))\n",
    "    return indx\n",
    "\n",
    "# Add new amalgamation function\n",
    "def newAmalgamationFunc(c, amalFuncID, amalFuncType, json):\n",
    "    return requests.put(base_url + 'concepts/' + c + '/amalgamationFunctions?amalgamationFunctionID=' + amalFuncID + '&amalgamationFunctionType=' + amalFuncType + '&attributeWeightsJSON=' + json)\n",
    "\n",
    "# Retrieves similar cases from given casebase\n",
    "def query_cbr_system(concept, casebase, amalgamationFct, queryJSON, k=-1):\n",
    "    raw = requests.post(base_url + 'concepts/' + concept + '/casebases/' + casebase + '/amalgamationFunctions/' + amalgamationFct +'/retrievalByMultipleAttributes?k='+ str(k), \n",
    "                        data=str(queryJSON),\n",
    "                        headers = headers)\n",
    "    results = pd.DataFrame.from_dict(raw.json())\n",
    "    results = results.apply(pd.to_numeric, errors='coerce').fillna(results).sort_values(by='similarity', ascending=False)\n",
    "    return results[['caseID', 'similarity']]\n",
    "\n",
    "\n",
    "# Returns a dataframe of similar cases from all casebases\n",
    "def query_all_cbr_systems(concept, query, k):\n",
    "    class_0_cbr_results = query_cbr_system(concept, 'cb_class0', 'amal_func_class0', query.to_json(), k)\n",
    "    if 1 in class_0_cbr_results.similarity.values:\n",
    "        class_0_cbr_results = query_cbr_system(concept, 'cb_class0', 'amal_func_class0', query.to_json(), k+1)    \n",
    "        class_0_cbr_results = class_0_cbr_results[1:].reset_index(drop=True)\n",
    "    class_0_cbr_results.columns = ['caseID_c0', 'similarity_c0']\n",
    "    \n",
    "    class_1_cbr_results = query_cbr_system(concept, 'cb_class1', 'amal_func_class1', query.to_json(), k)\n",
    "    if 1 in class_1_cbr_results.similarity.values:\n",
    "        class_1_cbr_results = query_cbr_system(concept, 'cb_class1', 'amal_func_class1', query.to_json(), k+1)    \n",
    "        class_1_cbr_results = class_1_cbr_results[1:].reset_index(drop=True)\n",
    "    class_1_cbr_results.columns = ['caseID_c1', 'similarity_c1']\n",
    "    \n",
    "    class_2_cbr_results = query_cbr_system(concept, 'cb_class2', 'amal_func_class2', query.to_json(), k)\n",
    "    if 1 in class_2_cbr_results.similarity.values:\n",
    "        class_2_cbr_results = query_cbr_system(concept, 'cb_class2', 'amal_func_class2', query.to_json(), k+1)    \n",
    "        class_2_cbr_results = class_2_cbr_results[1:].reset_index(drop=True)\n",
    "    class_2_cbr_results.columns = ['caseID_c2', 'similarity_c2']\n",
    "    \n",
    "    return pd.concat([class_0_cbr_results, class_1_cbr_results, class_2_cbr_results], axis=1)\n",
    "\n",
    "# Returns class information of most similar case \n",
    "def get_class_from_cbr_results(x):\n",
    "    classid = 5\n",
    "    class_list = [x.similarity_c0, x.similarity_c1, x.similarity_c2]\n",
    "    classid =class_list.index(max(class_list))\n",
    "    return classid"
   ]
  },
  {
   "cell_type": "markdown",
   "metadata": {},
   "source": [
    "### 3- Performance evaluation of CBR system with raw data "
   ]
  },
  {
   "cell_type": "markdown",
   "metadata": {},
   "source": [
    "#### Creating the CBR system with raw training data "
   ]
  },
  {
   "cell_type": "code",
   "execution_count": 14,
   "metadata": {},
   "outputs": [
    {
     "name": "stdout",
     "output_type": "stream",
     "text": [
      "cases deleted from case: True\n",
      "Casebase names:  [['cb_class1'], ['cb_class0'], ['cb_class2']]\n"
     ]
    }
   ],
   "source": [
    "# Delete all cases\n",
    "delete_instances_from_concept(concept)\n",
    "\n",
    "print('Casebase names: ', get_casebases())\n",
    "\n",
    "# Please uncomment following 3 lines if you don't see 'cb_class0', 'cb_class1', and 'cb_class2' in the list\n",
    "# put_new_cb('cb_class0')\n",
    "# put_new_cb('cb_class1')\n",
    "# put_new_cb('cb_class2')"
   ]
  },
  {
   "cell_type": "code",
   "execution_count": 15,
   "metadata": {},
   "outputs": [],
   "source": [
    "# Group test samples up to classes\n",
    "train_class0 = train.loc[train.Target == 0]\n",
    "train_class1 = train.loc[train.Target == 1]\n",
    "train_class2 = train.loc[train.Target == 2]\n",
    "\n",
    "# Adding cases to respective casebases\n",
    "add_cases_from_df(train_class0, concept, 'cb_class0')    \n",
    "add_cases_from_df(train_class1, concept, 'cb_class1')    \n",
    "add_cases_from_df(train_class2, concept, 'cb_class2')    "
   ]
  },
  {
   "cell_type": "code",
   "execution_count": 16,
   "metadata": {},
   "outputs": [
    {
     "data": {
      "text/html": [
       "<div>\n",
       "<style scoped>\n",
       "    .dataframe tbody tr th:only-of-type {\n",
       "        vertical-align: middle;\n",
       "    }\n",
       "\n",
       "    .dataframe tbody tr th {\n",
       "        vertical-align: top;\n",
       "    }\n",
       "\n",
       "    .dataframe thead th {\n",
       "        text-align: right;\n",
       "    }\n",
       "</style>\n",
       "<table border=\"1\" class=\"dataframe\">\n",
       "  <thead>\n",
       "    <tr style=\"text-align: right;\">\n",
       "      <th></th>\n",
       "      <th>similarity</th>\n",
       "      <th>caseID</th>\n",
       "      <th>Matched</th>\n",
       "      <th>t0</th>\n",
       "      <th>t1</th>\n",
       "      <th>t10</th>\n",
       "      <th>t100</th>\n",
       "      <th>t101</th>\n",
       "      <th>t11</th>\n",
       "      <th>t12</th>\n",
       "      <th>...</th>\n",
       "      <th>t90</th>\n",
       "      <th>t91</th>\n",
       "      <th>t92</th>\n",
       "      <th>t93</th>\n",
       "      <th>t94</th>\n",
       "      <th>t95</th>\n",
       "      <th>t96</th>\n",
       "      <th>t97</th>\n",
       "      <th>t98</th>\n",
       "      <th>t99</th>\n",
       "    </tr>\n",
       "  </thead>\n",
       "  <tbody>\n",
       "    <tr>\n",
       "      <th>0</th>\n",
       "      <td>1.0</td>\n",
       "      <td>case_36</td>\n",
       "      <td>NaN</td>\n",
       "      <td>0</td>\n",
       "      <td>0</td>\n",
       "      <td>0</td>\n",
       "      <td>1</td>\n",
       "      <td>1</td>\n",
       "      <td>0</td>\n",
       "      <td>1</td>\n",
       "      <td>...</td>\n",
       "      <td>0</td>\n",
       "      <td>0</td>\n",
       "      <td>0</td>\n",
       "      <td>0</td>\n",
       "      <td>1</td>\n",
       "      <td>0</td>\n",
       "      <td>0</td>\n",
       "      <td>1</td>\n",
       "      <td>0</td>\n",
       "      <td>1</td>\n",
       "    </tr>\n",
       "    <tr>\n",
       "      <th>1</th>\n",
       "      <td>1.0</td>\n",
       "      <td>case_15</td>\n",
       "      <td>NaN</td>\n",
       "      <td>0</td>\n",
       "      <td>0</td>\n",
       "      <td>0</td>\n",
       "      <td>0</td>\n",
       "      <td>1</td>\n",
       "      <td>0</td>\n",
       "      <td>0</td>\n",
       "      <td>...</td>\n",
       "      <td>0</td>\n",
       "      <td>0</td>\n",
       "      <td>0</td>\n",
       "      <td>0</td>\n",
       "      <td>1</td>\n",
       "      <td>0</td>\n",
       "      <td>0</td>\n",
       "      <td>1</td>\n",
       "      <td>0</td>\n",
       "      <td>1</td>\n",
       "    </tr>\n",
       "    <tr>\n",
       "      <th>2</th>\n",
       "      <td>1.0</td>\n",
       "      <td>case_78</td>\n",
       "      <td>NaN</td>\n",
       "      <td>1</td>\n",
       "      <td>0</td>\n",
       "      <td>0</td>\n",
       "      <td>0</td>\n",
       "      <td>1</td>\n",
       "      <td>1</td>\n",
       "      <td>0</td>\n",
       "      <td>...</td>\n",
       "      <td>0</td>\n",
       "      <td>0</td>\n",
       "      <td>0</td>\n",
       "      <td>0</td>\n",
       "      <td>1</td>\n",
       "      <td>0</td>\n",
       "      <td>0</td>\n",
       "      <td>1</td>\n",
       "      <td>0</td>\n",
       "      <td>1</td>\n",
       "    </tr>\n",
       "    <tr>\n",
       "      <th>3</th>\n",
       "      <td>1.0</td>\n",
       "      <td>case_35</td>\n",
       "      <td>NaN</td>\n",
       "      <td>1</td>\n",
       "      <td>0</td>\n",
       "      <td>0</td>\n",
       "      <td>0</td>\n",
       "      <td>1</td>\n",
       "      <td>1</td>\n",
       "      <td>0</td>\n",
       "      <td>...</td>\n",
       "      <td>0</td>\n",
       "      <td>0</td>\n",
       "      <td>0</td>\n",
       "      <td>0</td>\n",
       "      <td>1</td>\n",
       "      <td>0</td>\n",
       "      <td>0</td>\n",
       "      <td>1</td>\n",
       "      <td>0</td>\n",
       "      <td>1</td>\n",
       "    </tr>\n",
       "    <tr>\n",
       "      <th>4</th>\n",
       "      <td>1.0</td>\n",
       "      <td>case_57</td>\n",
       "      <td>NaN</td>\n",
       "      <td>0</td>\n",
       "      <td>0</td>\n",
       "      <td>1</td>\n",
       "      <td>0</td>\n",
       "      <td>1</td>\n",
       "      <td>0</td>\n",
       "      <td>0</td>\n",
       "      <td>...</td>\n",
       "      <td>0</td>\n",
       "      <td>1</td>\n",
       "      <td>0</td>\n",
       "      <td>0</td>\n",
       "      <td>1</td>\n",
       "      <td>0</td>\n",
       "      <td>0</td>\n",
       "      <td>1</td>\n",
       "      <td>0</td>\n",
       "      <td>1</td>\n",
       "    </tr>\n",
       "  </tbody>\n",
       "</table>\n",
       "<p>5 rows × 105 columns</p>\n",
       "</div>"
      ],
      "text/plain": [
       "  similarity   caseID  Matched t0 t1 t10 t100 t101 t11 t12  ... t90 t91 t92  \\\n",
       "0        1.0  case_36      NaN  0  0   0    1    1   0   1  ...   0   0   0   \n",
       "1        1.0  case_15      NaN  0  0   0    0    1   0   0  ...   0   0   0   \n",
       "2        1.0  case_78      NaN  1  0   0    0    1   1   0  ...   0   0   0   \n",
       "3        1.0  case_35      NaN  1  0   0    0    1   1   0  ...   0   0   0   \n",
       "4        1.0  case_57      NaN  0  0   1    0    1   0   0  ...   0   1   0   \n",
       "\n",
       "  t93 t94 t95 t96 t97 t98 t99  \n",
       "0   0   1   0   0   1   0   1  \n",
       "1   0   1   0   0   1   0   1  \n",
       "2   0   1   0   0   1   0   1  \n",
       "3   0   1   0   0   1   0   1  \n",
       "4   0   1   0   0   1   0   1  \n",
       "\n",
       "[5 rows x 105 columns]"
      ]
     },
     "execution_count": 16,
     "metadata": {},
     "output_type": "execute_result"
    }
   ],
   "source": [
    "# Viewing the cases in a given casebase\n",
    "obj.getAllCasesFromCaseBase(concept, 'cb_class0').head()\n",
    "#obj.getAllCasesFromCaseBase(concept, 'cb_class1').head()\n",
    "#obj.getAllCasesFromCaseBase(concept, 'cb_class2').head()"
   ]
  },
  {
   "cell_type": "markdown",
   "metadata": {},
   "source": [
    "##### Calculting shap values for each class to create amalgamation functions"
   ]
  },
  {
   "cell_type": "code",
   "execution_count": 17,
   "metadata": {},
   "outputs": [
    {
     "data": {
      "application/vnd.jupyter.widget-view+json": {
       "model_id": "c27cad5ed7bc473980799659b421660a",
       "version_major": 2,
       "version_minor": 0
      },
      "text/plain": [
       "  0%|          | 0/83 [00:00<?, ?it/s]"
      ]
     },
     "metadata": {},
     "output_type": "display_data"
    },
    {
     "data": {
      "image/png": "[encoded data removed]",
      "text/plain": [
       "<Figure size 576x3045.6 with 1 Axes>"
      ]
     },
     "metadata": {
      "needs_background": "light"
     },
     "output_type": "display_data"
    }
   ],
   "source": [
    "# Create shap kernel explainer using model and training data\n",
    "explainer = shap.KernelExplainer(mlp.predict_proba, X_train)\n",
    "\n",
    "# Shap values calculated for test data by explainer\n",
    "shap_values = explainer.shap_values(X_train)\n",
    "\n",
    "# Bar plot of calculated shap values (Each color implies a class)\n",
    "shap.summary_plot(shap_values, X_train, plot_type=\"bar\" ,max_display=102)"
   ]
  },
  {
   "cell_type": "code",
   "execution_count": 18,
   "metadata": {},
   "outputs": [],
   "source": [
    "# Shap values for Class0\n",
    "c0 = np.mean(np.abs(shap_values[0]), axis=0)\n",
    "# sort indices\n",
    "idx_c0 =np.argsort(c0)\n",
    "# sort shap values\n",
    "c0.sort()\n",
    "sorted_mean0 = c0[::-1] \n",
    "# rename incdices\n",
    "indx_0 = rename_indices(idx_c0)\n",
    "shap_c0 = pd.DataFrame(sorted_mean0, index = indx_0, columns =['shap'])\n",
    "\n",
    "\n",
    "\n",
    "# Shap values for Class1\n",
    "c1 = np.mean(np.abs(shap_values[1]), axis=0)\n",
    "# sort indices\n",
    "idx_c1 =np.argsort(c1)\n",
    "# sort shap values\n",
    "c1.sort()\n",
    "sorted_mean1 = c1[::-1] \n",
    "# rename incdices\n",
    "indx_1 = rename_indices(idx_c1)\n",
    "shap_c1 = pd.DataFrame(sorted_mean1, index = indx_1, columns =['shap'])\n",
    "\n",
    "\n",
    "# Shap values for Class2\n",
    "c2 = np.mean(np.abs(shap_values[2]), axis=0)\n",
    "# sort indices\n",
    "idx_c2 =np.argsort(c2)\n",
    "# sort shap values\n",
    "c2.sort()\n",
    "sorted_mean2 = c2[::-1] \n",
    "# rename incdices\n",
    "indx_2 = rename_indices(idx_c2)\n",
    "shap_c2 = pd.DataFrame(sorted_mean2, index = indx_2, columns =['shap'])"
   ]
  },
  {
   "cell_type": "code",
   "execution_count": 19,
   "metadata": {},
   "outputs": [],
   "source": [
    "# Save shap values\n",
    "shap_c0.to_csv('./shap_values/c0.csv')\n",
    "shap_c1.to_csv('./shap_values/c1.csv')\n",
    "shap_c2.to_csv('./shap_values/c2.csv')"
   ]
  },
  {
   "cell_type": "code",
   "execution_count": 20,
   "metadata": {},
   "outputs": [],
   "source": [
    "# Cast shap values to string for creating json objects (for newAmalgamationFunc)\n",
    "str_map0 = str(shap_c0.to_dict()['shap']).replace(\"'\",'\"')\n",
    "str_map1 = str(shap_c1.to_dict()['shap']).replace(\"'\",'\"')\n",
    "str_map2 = str(shap_c2.to_dict()['shap']).replace(\"'\",'\"')"
   ]
  },
  {
   "cell_type": "code",
   "execution_count": 21,
   "metadata": {},
   "outputs": [
    {
     "data": {
      "text/plain": [
       "<Response [200]>"
      ]
     },
     "execution_count": 21,
     "metadata": {},
     "output_type": "execute_result"
    }
   ],
   "source": [
    "# Set amalgamation functions for each casebase\n",
    "newAmalgamationFunc('case','amal_func_class0', 'WEIGHTED_SUM', str_map0)\n",
    "newAmalgamationFunc('case','amal_func_class1', 'WEIGHTED_SUM', str_map1)\n",
    "newAmalgamationFunc('case','amal_func_class2', 'WEIGHTED_SUM', str_map2)"
   ]
  },
  {
   "cell_type": "code",
   "execution_count": 22,
   "metadata": {},
   "outputs": [],
   "source": [
    "# Query test samples from CBR system and create a df to compare CBR results with ground truth\n",
    "test_data = test.reset_index()\n",
    "test_data.head()\n",
    "\n",
    "test_df = pd.DataFrame()\n",
    "\n",
    "for case_idx in range(len(test_data)):\n",
    "    query_c = test_data.loc[case_idx]\n",
    "    target = query_c.Target\n",
    "    query_c = query_c.drop(labels=['Target']).drop(['index'])\n",
    "\n",
    "    result_df = query_all_cbr_systems(concept,  query_c, k=1)\n",
    "    result_df['Class'] = target\n",
    "  \n",
    "    test_df = test_df.append(result_df)\n",
    "\n",
    "test_df['cbr_class'] = test_df.apply(get_class_from_cbr_results, axis=1)"
   ]
  },
  {
   "cell_type": "code",
   "execution_count": 23,
   "metadata": {},
   "outputs": [
    {
     "name": "stdout",
     "output_type": "stream",
     "text": [
      "              precision    recall  f1-score   support\n",
      "\n",
      "           0       0.25      0.17      0.20         6\n",
      "           1       0.33      0.60      0.43         5\n",
      "           2       0.62      0.50      0.56        10\n",
      "\n",
      "    accuracy                           0.43        21\n",
      "   macro avg       0.40      0.42      0.39        21\n",
      "weighted avg       0.45      0.43      0.42        21\n",
      "\n"
     ]
    },
    {
     "data": {
      "text/plain": [
       "<AxesSubplot:>"
      ]
     },
     "execution_count": 23,
     "metadata": {},
     "output_type": "execute_result"
    },
    {
     "data": {
      "image/png": "[encoded data removed]",
      "text/plain": [
       "<Figure size 432x288 with 2 Axes>"
      ]
     },
     "metadata": {
      "needs_background": "light"
     },
     "output_type": "display_data"
    }
   ],
   "source": [
    "# Print evaluation results\n",
    "y_pred = test_df['cbr_class']\n",
    "y_true = test_df['Class']\n",
    "\n",
    "print(classification_report(y_true, y_pred))\n",
    "\n",
    "sns.heatmap(confusion_matrix(y_true, y_pred), annot=True, annot_kws={\"size\": 16})"
   ]
  },
  {
   "cell_type": "markdown",
   "metadata": {},
   "source": [
    "### 4- Performance evaluation of CBR system with over-sampled data\n"
   ]
  },
  {
   "cell_type": "markdown",
   "metadata": {},
   "source": [
    "#### Creating the CBR system with over-sampled training data "
   ]
  },
  {
   "cell_type": "code",
   "execution_count": 24,
   "metadata": {},
   "outputs": [
    {
     "name": "stdout",
     "output_type": "stream",
     "text": [
      "cases deleted from case: True\n",
      "Case base names:  [['cb_class1'], ['cb_class0'], ['cb_class2']]\n"
     ]
    }
   ],
   "source": [
    "# Delete all cases\n",
    "delete_instances_from_concept(concept)\n",
    "\n",
    "print('Case base names: ', get_casebases())\n",
    "\n",
    "# Please uncomment following 3 lines if you don't see 'cb_class0', 'cb_class1', and 'cb_class2' in the list\n",
    "# put_new_cb('cb_class0')\n",
    "# put_new_cb('cb_class1')\n",
    "# put_new_cb('cb_class2')"
   ]
  },
  {
   "cell_type": "code",
   "execution_count": 25,
   "metadata": {},
   "outputs": [],
   "source": [
    "# Group test samples up to classes\n",
    "train_os_class0 = train_os.loc[train_os.Target == 0]\n",
    "train_os_class1 = train_os.loc[train_os.Target == 1]\n",
    "train_os_class2 = train_os.loc[train_os.Target == 2]\n",
    "\n",
    "# Adding cases to respective casebases\n",
    "add_cases_from_df(train_os_class0, concept, 'cb_class0')    \n",
    "add_cases_from_df(train_os_class1, concept, 'cb_class1')    \n",
    "add_cases_from_df(train_os_class2, concept, 'cb_class2')    "
   ]
  },
  {
   "cell_type": "code",
   "execution_count": 26,
   "metadata": {},
   "outputs": [
    {
     "data": {
      "text/html": [
       "<div>\n",
       "<style scoped>\n",
       "    .dataframe tbody tr th:only-of-type {\n",
       "        vertical-align: middle;\n",
       "    }\n",
       "\n",
       "    .dataframe tbody tr th {\n",
       "        vertical-align: top;\n",
       "    }\n",
       "\n",
       "    .dataframe thead th {\n",
       "        text-align: right;\n",
       "    }\n",
       "</style>\n",
       "<table border=\"1\" class=\"dataframe\">\n",
       "  <thead>\n",
       "    <tr style=\"text-align: right;\">\n",
       "      <th></th>\n",
       "      <th>similarity</th>\n",
       "      <th>caseID</th>\n",
       "      <th>Matched</th>\n",
       "      <th>t0</th>\n",
       "      <th>t1</th>\n",
       "      <th>t10</th>\n",
       "      <th>t100</th>\n",
       "      <th>t101</th>\n",
       "      <th>t11</th>\n",
       "      <th>t12</th>\n",
       "      <th>...</th>\n",
       "      <th>t90</th>\n",
       "      <th>t91</th>\n",
       "      <th>t92</th>\n",
       "      <th>t93</th>\n",
       "      <th>t94</th>\n",
       "      <th>t95</th>\n",
       "      <th>t96</th>\n",
       "      <th>t97</th>\n",
       "      <th>t98</th>\n",
       "      <th>t99</th>\n",
       "    </tr>\n",
       "  </thead>\n",
       "  <tbody>\n",
       "    <tr>\n",
       "      <th>0</th>\n",
       "      <td>1.0</td>\n",
       "      <td>case_36</td>\n",
       "      <td>NaN</td>\n",
       "      <td>0</td>\n",
       "      <td>0</td>\n",
       "      <td>1</td>\n",
       "      <td>0</td>\n",
       "      <td>1</td>\n",
       "      <td>0</td>\n",
       "      <td>0</td>\n",
       "      <td>...</td>\n",
       "      <td>1</td>\n",
       "      <td>0</td>\n",
       "      <td>0</td>\n",
       "      <td>0</td>\n",
       "      <td>1</td>\n",
       "      <td>0</td>\n",
       "      <td>0</td>\n",
       "      <td>1</td>\n",
       "      <td>0</td>\n",
       "      <td>1</td>\n",
       "    </tr>\n",
       "    <tr>\n",
       "      <th>1</th>\n",
       "      <td>1.0</td>\n",
       "      <td>case_58</td>\n",
       "      <td>NaN</td>\n",
       "      <td>0</td>\n",
       "      <td>0</td>\n",
       "      <td>1</td>\n",
       "      <td>0</td>\n",
       "      <td>1</td>\n",
       "      <td>0</td>\n",
       "      <td>0</td>\n",
       "      <td>...</td>\n",
       "      <td>0</td>\n",
       "      <td>1</td>\n",
       "      <td>0</td>\n",
       "      <td>0</td>\n",
       "      <td>1</td>\n",
       "      <td>0</td>\n",
       "      <td>0</td>\n",
       "      <td>1</td>\n",
       "      <td>0</td>\n",
       "      <td>1</td>\n",
       "    </tr>\n",
       "    <tr>\n",
       "      <th>2</th>\n",
       "      <td>1.0</td>\n",
       "      <td>case_37</td>\n",
       "      <td>NaN</td>\n",
       "      <td>1</td>\n",
       "      <td>0</td>\n",
       "      <td>0</td>\n",
       "      <td>0</td>\n",
       "      <td>0</td>\n",
       "      <td>0</td>\n",
       "      <td>0</td>\n",
       "      <td>...</td>\n",
       "      <td>0</td>\n",
       "      <td>0</td>\n",
       "      <td>0</td>\n",
       "      <td>0</td>\n",
       "      <td>1</td>\n",
       "      <td>1</td>\n",
       "      <td>0</td>\n",
       "      <td>1</td>\n",
       "      <td>0</td>\n",
       "      <td>1</td>\n",
       "    </tr>\n",
       "    <tr>\n",
       "      <th>3</th>\n",
       "      <td>1.0</td>\n",
       "      <td>case_34</td>\n",
       "      <td>NaN</td>\n",
       "      <td>1</td>\n",
       "      <td>0</td>\n",
       "      <td>0</td>\n",
       "      <td>1</td>\n",
       "      <td>0</td>\n",
       "      <td>0</td>\n",
       "      <td>1</td>\n",
       "      <td>...</td>\n",
       "      <td>1</td>\n",
       "      <td>0</td>\n",
       "      <td>0</td>\n",
       "      <td>0</td>\n",
       "      <td>1</td>\n",
       "      <td>0</td>\n",
       "      <td>0</td>\n",
       "      <td>1</td>\n",
       "      <td>0</td>\n",
       "      <td>1</td>\n",
       "    </tr>\n",
       "    <tr>\n",
       "      <th>4</th>\n",
       "      <td>1.0</td>\n",
       "      <td>case_78</td>\n",
       "      <td>NaN</td>\n",
       "      <td>0</td>\n",
       "      <td>0</td>\n",
       "      <td>0</td>\n",
       "      <td>0</td>\n",
       "      <td>1</td>\n",
       "      <td>0</td>\n",
       "      <td>0</td>\n",
       "      <td>...</td>\n",
       "      <td>0</td>\n",
       "      <td>0</td>\n",
       "      <td>0</td>\n",
       "      <td>0</td>\n",
       "      <td>1</td>\n",
       "      <td>0</td>\n",
       "      <td>0</td>\n",
       "      <td>1</td>\n",
       "      <td>0</td>\n",
       "      <td>1</td>\n",
       "    </tr>\n",
       "  </tbody>\n",
       "</table>\n",
       "<p>5 rows × 105 columns</p>\n",
       "</div>"
      ],
      "text/plain": [
       "  similarity   caseID  Matched t0 t1 t10 t100 t101 t11 t12  ... t90 t91 t92  \\\n",
       "0        1.0  case_36      NaN  0  0   1    0    1   0   0  ...   1   0   0   \n",
       "1        1.0  case_58      NaN  0  0   1    0    1   0   0  ...   0   1   0   \n",
       "2        1.0  case_37      NaN  1  0   0    0    0   0   0  ...   0   0   0   \n",
       "3        1.0  case_34      NaN  1  0   0    1    0   0   1  ...   1   0   0   \n",
       "4        1.0  case_78      NaN  0  0   0    0    1   0   0  ...   0   0   0   \n",
       "\n",
       "  t93 t94 t95 t96 t97 t98 t99  \n",
       "0   0   1   0   0   1   0   1  \n",
       "1   0   1   0   0   1   0   1  \n",
       "2   0   1   1   0   1   0   1  \n",
       "3   0   1   0   0   1   0   1  \n",
       "4   0   1   0   0   1   0   1  \n",
       "\n",
       "[5 rows x 105 columns]"
      ]
     },
     "execution_count": 26,
     "metadata": {},
     "output_type": "execute_result"
    }
   ],
   "source": [
    "# Viewing the cases in a given casebase\n",
    "obj.getAllCasesFromCaseBase(concept, 'cb_class0').head()\n",
    "#obj.getAllCasesFromCaseBase(concept, 'cb_class1').head()\n",
    "#obj.getAllCasesFromCaseBase(concept, 'cb_class2').head()"
   ]
  },
  {
   "cell_type": "code",
   "execution_count": 27,
   "metadata": {},
   "outputs": [
    {
     "data": {
      "application/vnd.jupyter.widget-view+json": {
       "model_id": "4625676a5abe41bcb2ff1849e651d216",
       "version_major": 2,
       "version_minor": 0
      },
      "text/plain": [
       "  0%|          | 0/99 [00:00<?, ?it/s]"
      ]
     },
     "metadata": {},
     "output_type": "display_data"
    },
    {
     "data": {
      "image/png": "[encoded data removed]",
      "text/plain": [
       "<Figure size 576x3045.6 with 1 Axes>"
      ]
     },
     "metadata": {
      "needs_background": "light"
     },
     "output_type": "display_data"
    }
   ],
   "source": [
    "# Create shap kernel explainer using model and training data\n",
    "explainer = shap.KernelExplainer(mlp_os.predict_proba, X_train_os)\n",
    "\n",
    "# Shap values calculated for test data by explainer\n",
    "shap_values = explainer.shap_values(X_train_os)\n",
    "\n",
    "# Bar plot of calculated shap values (Each color implies a class)\n",
    "shap.summary_plot(shap_values, X_train_os, plot_type=\"bar\" ,max_display=102)"
   ]
  },
  {
   "cell_type": "code",
   "execution_count": 28,
   "metadata": {},
   "outputs": [],
   "source": [
    "# Shap values for Class0\n",
    "c0 = np.mean(np.abs(shap_values[0]), axis=0)\n",
    "# sort indices\n",
    "idx_c0 =np.argsort(c0)\n",
    "# sort shap values\n",
    "c0.sort()\n",
    "sorted_mean0 = c0[::-1] \n",
    "# rename incdices\n",
    "indx_0 = rename_indices(idx_c0)\n",
    "shap_c0 = pd.DataFrame(sorted_mean0, index = indx_0, columns =['shap'])\n",
    "\n",
    "\n",
    "\n",
    "# Shap values for Class1\n",
    "c1 = np.mean(np.abs(shap_values[1]), axis=0)\n",
    "# sort indices\n",
    "idx_c1 =np.argsort(c1)\n",
    "# sort shap values\n",
    "c1.sort()\n",
    "sorted_mean1 = c1[::-1] \n",
    "# rename incdices\n",
    "indx_1 = rename_indices(idx_c1)\n",
    "shap_c1 = pd.DataFrame(sorted_mean1, index = indx_1, columns =['shap'])\n",
    "\n",
    "\n",
    "# Shap values for Class2\n",
    "c2 = np.mean(np.abs(shap_values[2]), axis=0)\n",
    "# sort indices\n",
    "idx_c2 =np.argsort(c2)\n",
    "# sort shap values\n",
    "c2.sort()\n",
    "sorted_mean2 = c2[::-1] \n",
    "# rename incdices\n",
    "indx_2 = rename_indices(idx_c2)\n",
    "shap_c2 = pd.DataFrame(sorted_mean2, index = indx_2, columns =['shap'])"
   ]
  },
  {
   "cell_type": "code",
   "execution_count": 29,
   "metadata": {},
   "outputs": [],
   "source": [
    "# Save shap values\n",
    "shap_c0.to_csv('./shap_values/c0_os.csv')\n",
    "shap_c1.to_csv('./shap_values/c1_os.csv')\n",
    "shap_c2.to_csv('./shap_values/c2_os.csv')"
   ]
  },
  {
   "cell_type": "code",
   "execution_count": 30,
   "metadata": {},
   "outputs": [],
   "source": [
    "# Cast shap values to string for creating json objects (for newAmalgamationFunc)\n",
    "str_map0 = str(shap_c0.to_dict()['shap']).replace(\"'\",'\"')\n",
    "str_map1 = str(shap_c1.to_dict()['shap']).replace(\"'\",'\"')\n",
    "str_map2 = str(shap_c2.to_dict()['shap']).replace(\"'\",'\"')"
   ]
  },
  {
   "cell_type": "code",
   "execution_count": 31,
   "metadata": {},
   "outputs": [
    {
     "data": {
      "text/plain": [
       "<Response [200]>"
      ]
     },
     "execution_count": 31,
     "metadata": {},
     "output_type": "execute_result"
    }
   ],
   "source": [
    "# Set amalgamation functions for each casebase\n",
    "newAmalgamationFunc('case','amal_func_class0', 'WEIGHTED_SUM', str_map0)\n",
    "newAmalgamationFunc('case','amal_func_class1', 'WEIGHTED_SUM', str_map1)\n",
    "newAmalgamationFunc('case','amal_func_class2', 'WEIGHTED_SUM', str_map2)"
   ]
  },
  {
   "cell_type": "code",
   "execution_count": 32,
   "metadata": {},
   "outputs": [],
   "source": [
    "# Query test samples from CBR system and create a df to compare CBR results with ground truth\n",
    "test_data = test.reset_index()\n",
    "test_data.head()\n",
    "\n",
    "test_df = pd.DataFrame()\n",
    "\n",
    "for case_idx in range(len(test_data)):\n",
    "    query_c = test_data.loc[case_idx]\n",
    "    target = query_c.Target\n",
    "    query_c = query_c.drop(labels=['Target']).drop(['index'])\n",
    "\n",
    "    result_df = query_all_cbr_systems(concept,  query_c, k=1)\n",
    "    result_df['Class'] = target\n",
    "  \n",
    "    test_df = test_df.append(result_df)\n",
    "\n",
    "test_df['cbr_class'] = test_df.apply(get_class_from_cbr_results, axis=1)"
   ]
  },
  {
   "cell_type": "code",
   "execution_count": 33,
   "metadata": {},
   "outputs": [
    {
     "name": "stdout",
     "output_type": "stream",
     "text": [
      "              precision    recall  f1-score   support\n",
      "\n",
      "           0       0.33      0.50      0.40         6\n",
      "           1       0.27      0.60      0.37         5\n",
      "           2       0.00      0.00      0.00        10\n",
      "\n",
      "    accuracy                           0.29        21\n",
      "   macro avg       0.20      0.37      0.26        21\n",
      "weighted avg       0.16      0.29      0.20        21\n",
      "\n"
     ]
    },
    {
     "data": {
      "text/plain": [
       "<AxesSubplot:>"
      ]
     },
     "execution_count": 33,
     "metadata": {},
     "output_type": "execute_result"
    },
    {
     "data": {
      "image/png": "[encoded data removed]",
      "text/plain": [
       "<Figure size 432x288 with 2 Axes>"
      ]
     },
     "metadata": {
      "needs_background": "light"
     },
     "output_type": "display_data"
    }
   ],
   "source": [
    "# Print evaluation results\n",
    "y_pred = test_df['cbr_class']\n",
    "y_true = test_df['Class']\n",
    "\n",
    "print(classification_report(y_true, y_pred))\n",
    "\n",
    "sns.heatmap(confusion_matrix(y_true, y_pred), annot=True, annot_kws={\"size\": 16})"
   ]
  }
 ],
 "metadata": {
  "kernelspec": {
   "display_name": "Python 3 (ipykernel)",
   "language": "python",
   "name": "python3"
  },
  "language_info": {
   "codemirror_mode": {
    "name": "ipython",
    "version": 3
   },
   "file_extension": ".py",
   "mimetype": "text/x-python",
   "name": "python",
   "nbconvert_exporter": "python",
   "pygments_lexer": "ipython3",
   "version": "3.9.10"
  }
 },
 "nbformat": 4,
 "nbformat_minor": 4
}
