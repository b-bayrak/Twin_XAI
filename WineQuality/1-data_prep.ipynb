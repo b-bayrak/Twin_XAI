{
 "cells": [
  {
   "cell_type": "code",
   "execution_count": 30,
   "id": "4cb3fada",
   "metadata": {},
   "outputs": [],
   "source": [
    "# import required packages\n",
    "import pandas as pd\n",
    "import numpy as np\n",
    "\n",
    "import shap\n",
    "import joblib\n",
    "import dice_ml\n",
    "\n",
    "from sklearn import preprocessing\n",
    "import warnings\n",
    "import random\n",
    "from imblearn.over_sampling import SMOTE\n",
    "\n",
    "from sklearn.preprocessing import LabelEncoder\n",
    "from sklearn.model_selection import train_test_split\n",
    "from sklearn.neural_network import MLPClassifier\n",
    "import xgboost as xgb\n",
    "from sklearn.discriminant_analysis import QuadraticDiscriminantAnalysis\n",
    "\n",
    "from sklearn.metrics import precision_recall_fscore_support, classification_report, confusion_matrix"
   ]
  },
  {
   "cell_type": "code",
   "execution_count": 31,
   "id": "e96ff8fb",
   "metadata": {},
   "outputs": [
    {
     "name": "stdout",
     "output_type": "stream",
     "text": [
      "seed 27\n"
     ]
    }
   ],
   "source": [
    "random_state = random.randint(0, 100)\n",
    "print('seed', random_state)\n",
    "\n",
    "warnings.filterwarnings(\"ignore\")"
   ]
  },
  {
   "cell_type": "code",
   "execution_count": 32,
   "id": "f8d94649",
   "metadata": {},
   "outputs": [],
   "source": [
    "x_cols = ['fixed_acidity', 'volatile_acidity', 'citric_acid', 'residual_sugar',\n",
    "       'chlorides', 'free_sulfur_dioxide', 'total_sulfur_dioxide', 'density',\n",
    "       'pH', 'sulphates', 'alcohol', 'color']\n",
    "label = 'quality'\n",
    "\n",
    "df = pd.read_csv(\"./data/Wine_Quality_Data.csv\")\n",
    "\n",
    "\n",
    "L=LabelEncoder()\n",
    "df[\"color\"]=L.fit_transform(df[\"color\"])\n",
    "\n",
    "# Map classes accordingly\n",
    "dic = { 3: 0 , 4: 0, 5:1, 6:1, 7:2, 8:2, 9:2} \n",
    "df[label] = df[label].map(dic)"
   ]
  },
  {
   "cell_type": "code",
   "execution_count": 33,
   "id": "f9829945",
   "metadata": {},
   "outputs": [
    {
     "name": "stdout",
     "output_type": "stream",
     "text": [
      "1    3503\n",
      "2     870\n",
      "0     174\n",
      "Name: quality, dtype: int64\n",
      "1    3503\n",
      "0    3503\n",
      "2    3503\n",
      "Name: quality, dtype: int64\n",
      "1    1471\n",
      "2     407\n",
      "0      72\n",
      "Name: quality, dtype: int64\n"
     ]
    }
   ],
   "source": [
    "# Identifying target feature and other features\n",
    "X = df[x_cols]\n",
    "y = df[label]\n",
    "\n",
    "# Raw split of dataset \n",
    "X_train, X_test, y_train, y_test = train_test_split(X, y, test_size=0.3, random_state=random_state)  \n",
    "\n",
    "train = X_train.join(y_train)\n",
    "test = X_test.join(y_test)\n",
    "\n",
    "# Save raw training and testing data\n",
    "train.to_csv('./data/train.csv',index=False) \n",
    "test.to_csv('./data/test.csv',index=False)\n",
    "\n",
    "\n",
    "# Over-sampling the train set \n",
    "oversample = SMOTE(random_state=random_state,k_neighbors=2)\n",
    "X_train_os, y_train_os = oversample.fit_resample(X_train, y_train)\n",
    "train_os = X_train_os.join(y_train_os)\n",
    "\n",
    "# Over-sampled train set\n",
    "train_os.to_csv('./data/train_oversampled.csv',index=False)\n",
    "\n",
    "print(y_train.value_counts())\n",
    "print(y_train_os.value_counts())\n",
    "print(y_test.value_counts())"
   ]
  },
  {
   "cell_type": "code",
   "execution_count": 34,
   "id": "f4f22caa",
   "metadata": {},
   "outputs": [],
   "source": [
    "# Group samples up to classes\n",
    "X_train.loc[train[label] == 0].to_csv('./data/train_c0.csv',index=False) \n",
    "X_train.loc[train[label] == 1].to_csv('./data/train_c1.csv',index=False) \n",
    "X_train.loc[train[label] == 2].to_csv('./data/train_c2.csv',index=False) \n",
    "\n",
    "# Group samples up to classes\n",
    "X_train_os.loc[train_os[label] == 0].to_csv('./data/train_os_c0.csv',index=False) \n",
    "X_train_os.loc[train_os[label] == 1].to_csv('./data/train_os_c1.csv',index=False) \n",
    "X_train_os.loc[train_os[label] == 2].to_csv('./data/train_os_c2.csv',index=False) "
   ]
  },
  {
   "cell_type": "code",
   "execution_count": 35,
   "id": "4dbe1183",
   "metadata": {},
   "outputs": [
    {
     "name": "stderr",
     "output_type": "stream",
     "text": [
      "Using 500 background data samples could cause slower run times. Consider using shap.sample(data, K) or shap.kmeans(data, K) to summarize the background as K samples.\n"
     ]
    },
    {
     "data": {
      "application/vnd.jupyter.widget-view+json": {
       "model_id": "010ce20fc2b145bb9d34bcf7fb05832a",
       "version_major": 2,
       "version_minor": 0
      },
      "text/plain": [
       "  0%|          | 0/100 [00:00<?, ?it/s]"
      ]
     },
     "metadata": {},
     "output_type": "display_data"
    },
    {
     "data": {
      "image/png": "[encoded data removed]",
      "text/plain": [
       "<Figure size 576x453.6 with 1 Axes>"
      ]
     },
     "metadata": {
      "needs_background": "light"
     },
     "output_type": "display_data"
    }
   ],
   "source": [
    "# build the lightgbm model\n",
    "xgb_model = xgb.XGBClassifier(objective=\"binary:logistic\", random_state=42)\n",
    "xgb_model.fit(X, y)\n",
    "\n",
    "# Create shap kernel explainer using model and training data\n",
    "explainer = shap.KernelExplainer(xgb_model.predict_proba, shap.kmeans(X, 500))\n",
    "\n",
    "# Shap values calculated by explainer\n",
    "shap_values = explainer.shap_values(X.sample(100))\n",
    "\n",
    "# Bar plot of calculated shap values (Each color implies a class)\n",
    "shap.summary_plot(shap_values, X_train, plot_type=\"bar\")"
   ]
  },
  {
   "cell_type": "code",
   "execution_count": 36,
   "id": "f73e115a",
   "metadata": {},
   "outputs": [],
   "source": [
    "# min_max_scaler = preprocessing.MinMaxScaler()\n",
    "\n",
    "# vals= np.mean(np.abs(min_max_scaler.fit_transform(shap_values[0])), axis=0)\n",
    "vals= np.mean(np.abs(shap_values[0]), axis=0)\n",
    "\n",
    "feature_importance = pd.DataFrame(list(zip(X_test.columns, vals)), columns=['col_name','shap'])\n",
    "\n",
    "feature_importance.sort_values(by=['shap'], ascending=False,inplace=True)\n",
    "feature_importance = feature_importance.set_index('col_name')\n",
    "feature_importance0 = feature_importance.append(pd.Series([0], index=feature_importance.columns, name=label))\n",
    "feature_importance0.to_csv('./shap_val/shap0.csv')\n",
    "\n",
    "\n",
    "# vals= np.mean(np.abs(min_max_scaler.fit_transform(shap_values[1])), axis=0)\n",
    "vals= np.mean(np.abs(shap_values[1]), axis=0)\n",
    "\n",
    "feature_importance = pd.DataFrame(list(zip(X_test.columns, vals)), columns=['col_name','shap'])\n",
    "\n",
    "feature_importance.sort_values(by=['shap'], ascending=False,inplace=True)\n",
    "feature_importance = feature_importance.set_index('col_name')\n",
    "feature_importance1 = feature_importance.append(pd.Series([0], index=feature_importance.columns, name=label))\n",
    "feature_importance1.to_csv('./shap_val/shap1.csv')\n",
    "\n",
    "\n",
    "\n",
    "# vals= np.mean(np.abs(min_max_scaler.fit_transform(shap_values[2])), axis=0)\n",
    "vals= np.mean(np.abs(shap_values[2]), axis=0)\n",
    "\n",
    "feature_importance = pd.DataFrame(list(zip(X_test.columns, vals)), columns=['col_name','shap'])\n",
    "\n",
    "feature_importance.sort_values(by=['shap'], ascending=False,inplace=True)\n",
    "feature_importance = feature_importance.set_index('col_name')\n",
    "feature_importance2 = feature_importance.append(pd.Series([0], index=feature_importance.columns, name=label))\n",
    "feature_importance2.to_csv('./shap_val/shap2.csv')"
   ]
  },
  {
   "cell_type": "code",
   "execution_count": null,
   "id": "0241916f",
   "metadata": {},
   "outputs": [],
   "source": []
  },
  {
   "cell_type": "code",
   "execution_count": 37,
   "id": "1c27b0b8",
   "metadata": {},
   "outputs": [
    {
     "data": {
      "text/plain": [
       "fixed_acidity            1.30000\n",
       "volatile_acidity         0.17000\n",
       "citric_acid              0.14000\n",
       "residual_sugar           6.30000\n",
       "chlorides                0.02700\n",
       "free_sulfur_dioxide     24.00000\n",
       "total_sulfur_dioxide    79.00000\n",
       "density                  0.00465\n",
       "pH                       0.21000\n",
       "sulphates                0.17000\n",
       "alcohol                  1.80000\n",
       "quality                  0.00000\n",
       "color                    0.00000\n",
       "dtype: float64"
      ]
     },
     "execution_count": 37,
     "metadata": {},
     "output_type": "execute_result"
    }
   ],
   "source": [
    "def find_iqr(x):\n",
    "    return np.subtract(*np.percentile(x, [75, 25]))\n",
    "\n",
    "#calculate IQR for 'rating' and 'points' columns\n",
    "df.apply(find_iqr)"
   ]
  },
  {
   "cell_type": "code",
   "execution_count": null,
   "id": "64c36d02",
   "metadata": {},
   "outputs": [],
   "source": []
  }
 ],
 "metadata": {
  "kernelspec": {
   "display_name": "Python 3 (ipykernel)",
   "language": "python",
   "name": "python3"
  },
  "language_info": {
   "codemirror_mode": {
    "name": "ipython",
    "version": 3
   },
   "file_extension": ".py",
   "mimetype": "text/x-python",
   "name": "python",
   "nbconvert_exporter": "python",
   "pygments_lexer": "ipython3",
   "version": "3.9.10"
  }
 },
 "nbformat": 4,
 "nbformat_minor": 5
}
