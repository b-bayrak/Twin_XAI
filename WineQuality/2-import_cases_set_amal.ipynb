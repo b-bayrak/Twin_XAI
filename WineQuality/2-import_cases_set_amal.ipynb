{
 "cells": [
  {
   "cell_type": "code",
   "execution_count": 1,
   "id": "04bd90a3",
   "metadata": {},
   "outputs": [],
   "source": [
    "# import required packages\n",
    "import pandas as pd\n",
    "import numpy as np\n",
    "\n",
    "import seaborn as sns\n",
    "\n",
    "from sklearn.metrics import precision_recall_fscore_support, classification_report, confusion_matrix\n",
    "\n",
    "import warnings\n",
    "import requests\n",
    "from requests import get\n",
    "import random\n",
    "\n",
    "from mycbr_py_api import MyCBRRestApi as mycbr"
   ]
  },
  {
   "cell_type": "code",
   "execution_count": 2,
   "id": "f58f724c",
   "metadata": {},
   "outputs": [],
   "source": [
    "x_cols = ['fixed_acidity', 'volatile_acidity', 'citric_acid', 'residual_sugar',\n",
    "       'chlorides', 'free_sulfur_dioxide', 'total_sulfur_dioxide', 'density',\n",
    "       'pH', 'sulphates', 'alcohol', 'color']\n",
    "\n",
    "label = 'quality'"
   ]
  },
  {
   "cell_type": "code",
   "execution_count": 3,
   "id": "7af094c7",
   "metadata": {},
   "outputs": [],
   "source": [
    "# API connection\n",
    "\n",
    "server = 'localhost'\n",
    "#server = 'user@hv-6066.idi.ntnu.no'\n",
    "\n",
    "port = '8080'\n",
    "base_url = 'http://' + server + ':' + port + '/'\n",
    "\n",
    "headers = {'Content-type':'application/json'}\n",
    "\n",
    "obj = mycbr(base_url)\n",
    "\n",
    "\n",
    "concept = 'wine'"
   ]
  },
  {
   "cell_type": "code",
   "execution_count": 4,
   "id": "46755d80",
   "metadata": {},
   "outputs": [],
   "source": [
    "# Deletes all cases from specified concept \n",
    "def delete_instances_from_concept(c):\n",
    "    response = requests.delete('http://localhost:8080/concepts/'+c+'/cases')\n",
    "    print(\"cases deleted from \" + c + \": \" + str(response.ok))\n",
    "    \n",
    "# Adds a new casebase \n",
    "def put_new_cb(newCbName):\n",
    "    requests.put(base_url + 'casebases/' + newCbName)\n",
    "    \n",
    "# Returns casebase list\n",
    "def get_casebases():\n",
    "    raw = pd.DataFrame(requests.get(base_url + 'casebases/').json())\n",
    "    casebases = pd.DataFrame.from_records(raw).values.tolist()\n",
    "    return casebases\n",
    "\n",
    "# add cases to casebase\n",
    "def add_rows_as_cases(x, c, cb):\n",
    "    case_id = 'case_' + str(x['index'])\n",
    "    #x = x.drop(['Target', 'index'])\n",
    "    x = x.drop(['index'])\n",
    "    requests.post(base_url + 'concepts/' + c + '/casebases/' + cb +'/cases/' + case_id, data = str(x.to_json()), headers=headers)\n",
    "\n",
    "# add cases to casebase from dataframe\n",
    "def add_cases_from_df(df, c, cb):  \n",
    "    tmp = df.copy(deep=True)\n",
    "    tmp.reset_index(inplace=True)\n",
    "    tmp.apply(add_rows_as_cases, args=(c, cb), axis=1)\n",
    "    \n",
    "# Add new amalgamation function\n",
    "def newAmalgamationFunc(c, amalFuncID, amalFuncType, json):\n",
    "    return requests.put(base_url + 'concepts/' + c + '/amalgamationFunctions?amalgamationFunctionID=' + amalFuncID + '&amalgamationFunctionType=' + amalFuncType + '&attributeWeightsJSON=' + json)\n"
   ]
  },
  {
   "cell_type": "code",
   "execution_count": 5,
   "id": "2f4588ba",
   "metadata": {},
   "outputs": [
    {
     "name": "stdout",
     "output_type": "stream",
     "text": [
      "Casebase names:  [['cb_class1'], ['cb_class0'], ['cb_class2']]\n"
     ]
    }
   ],
   "source": [
    "print('Casebase names: ', get_casebases())"
   ]
  },
  {
   "cell_type": "code",
   "execution_count": 6,
   "id": "826c1749",
   "metadata": {},
   "outputs": [
    {
     "name": "stdout",
     "output_type": "stream",
     "text": [
      "cases deleted from wine: True\n"
     ]
    }
   ],
   "source": [
    "delete_instances_from_concept(concept)"
   ]
  },
  {
   "cell_type": "code",
   "execution_count": 7,
   "id": "e7e66e09",
   "metadata": {},
   "outputs": [],
   "source": [
    "train_class0 = pd.read_csv(\"./data/train_c0.csv\").astype('float64')\n",
    "train_class1 = pd.read_csv(\"./data/train_c1.csv\").astype('float64')\n",
    "train_class2 = pd.read_csv(\"./data/train_c2.csv\").astype('float64')\n",
    "\n",
    "\n",
    "# Adding cases to respective casebases\n",
    "add_cases_from_df(train_class0, concept, 'cb_class0')    \n",
    "add_cases_from_df(train_class1, concept, 'cb_class1')    \n",
    "add_cases_from_df(train_class2, concept, 'cb_class2')    "
   ]
  },
  {
   "cell_type": "code",
   "execution_count": null,
   "id": "a0f22c6e",
   "metadata": {},
   "outputs": [],
   "source": []
  },
  {
   "cell_type": "code",
   "execution_count": 8,
   "id": "c5b7d00f",
   "metadata": {},
   "outputs": [
    {
     "data": {
      "text/html": [
       "<div>\n",
       "<style scoped>\n",
       "    .dataframe tbody tr th:only-of-type {\n",
       "        vertical-align: middle;\n",
       "    }\n",
       "\n",
       "    .dataframe tbody tr th {\n",
       "        vertical-align: top;\n",
       "    }\n",
       "\n",
       "    .dataframe thead th {\n",
       "        text-align: right;\n",
       "    }\n",
       "</style>\n",
       "<table border=\"1\" class=\"dataframe\">\n",
       "  <thead>\n",
       "    <tr style=\"text-align: right;\">\n",
       "      <th></th>\n",
       "      <th>similarity</th>\n",
       "      <th>caseID</th>\n",
       "      <th>alcohol</th>\n",
       "      <th>chlorides</th>\n",
       "      <th>citric_acid</th>\n",
       "      <th>color</th>\n",
       "      <th>density</th>\n",
       "      <th>fixed_acidity</th>\n",
       "      <th>free_sulfur_dioxide</th>\n",
       "      <th>pH</th>\n",
       "      <th>residual_sugar</th>\n",
       "      <th>sulphates</th>\n",
       "      <th>total_sulfur_dioxide</th>\n",
       "      <th>volatile_acidity</th>\n",
       "    </tr>\n",
       "  </thead>\n",
       "  <tbody>\n",
       "    <tr>\n",
       "      <th>0</th>\n",
       "      <td>1.0</td>\n",
       "      <td>case_170.0</td>\n",
       "      <td>9.2</td>\n",
       "      <td>0.067</td>\n",
       "      <td>0.26</td>\n",
       "      <td>1.0</td>\n",
       "      <td>0.99838</td>\n",
       "      <td>7.5</td>\n",
       "      <td>47.0</td>\n",
       "      <td>3.04</td>\n",
       "      <td>14.95</td>\n",
       "      <td>0.49</td>\n",
       "      <td>178.0</td>\n",
       "      <td>0.29</td>\n",
       "    </tr>\n",
       "    <tr>\n",
       "      <th>1</th>\n",
       "      <td>1.0</td>\n",
       "      <td>case_82.0</td>\n",
       "      <td>9.8</td>\n",
       "      <td>0.054</td>\n",
       "      <td>0.37</td>\n",
       "      <td>1.0</td>\n",
       "      <td>0.99795</td>\n",
       "      <td>8.0</td>\n",
       "      <td>23.0</td>\n",
       "      <td>3.32</td>\n",
       "      <td>9.6</td>\n",
       "      <td>0.47</td>\n",
       "      <td>159.0</td>\n",
       "      <td>0.23</td>\n",
       "    </tr>\n",
       "    <tr>\n",
       "      <th>2</th>\n",
       "      <td>1.0</td>\n",
       "      <td>case_86.0</td>\n",
       "      <td>9.2</td>\n",
       "      <td>0.06</td>\n",
       "      <td>0.14</td>\n",
       "      <td>1.0</td>\n",
       "      <td>0.99344</td>\n",
       "      <td>6.1</td>\n",
       "      <td>27.0</td>\n",
       "      <td>3.07</td>\n",
       "      <td>3.9</td>\n",
       "      <td>0.34</td>\n",
       "      <td>113.0</td>\n",
       "      <td>0.38</td>\n",
       "    </tr>\n",
       "    <tr>\n",
       "      <th>3</th>\n",
       "      <td>1.0</td>\n",
       "      <td>case_63.0</td>\n",
       "      <td>12.5</td>\n",
       "      <td>0.04</td>\n",
       "      <td>0.46</td>\n",
       "      <td>1.0</td>\n",
       "      <td>0.9906</td>\n",
       "      <td>7.2</td>\n",
       "      <td>3.0</td>\n",
       "      <td>3.04</td>\n",
       "      <td>5.0</td>\n",
       "      <td>0.53</td>\n",
       "      <td>29.0</td>\n",
       "      <td>0.31</td>\n",
       "    </tr>\n",
       "    <tr>\n",
       "      <th>4</th>\n",
       "      <td>1.0</td>\n",
       "      <td>case_40.0</td>\n",
       "      <td>12.4</td>\n",
       "      <td>0.033</td>\n",
       "      <td>0.42</td>\n",
       "      <td>1.0</td>\n",
       "      <td>0.9911</td>\n",
       "      <td>8.3</td>\n",
       "      <td>18.0</td>\n",
       "      <td>3.2</td>\n",
       "      <td>1.15</td>\n",
       "      <td>0.32</td>\n",
       "      <td>96.0</td>\n",
       "      <td>0.33</td>\n",
       "    </tr>\n",
       "  </tbody>\n",
       "</table>\n",
       "</div>"
      ],
      "text/plain": [
       "  similarity      caseID alcohol chlorides citric_acid color  density  \\\n",
       "0        1.0  case_170.0     9.2     0.067        0.26   1.0  0.99838   \n",
       "1        1.0   case_82.0     9.8     0.054        0.37   1.0  0.99795   \n",
       "2        1.0   case_86.0     9.2      0.06        0.14   1.0  0.99344   \n",
       "3        1.0   case_63.0    12.5      0.04        0.46   1.0   0.9906   \n",
       "4        1.0   case_40.0    12.4     0.033        0.42   1.0   0.9911   \n",
       "\n",
       "  fixed_acidity free_sulfur_dioxide    pH residual_sugar sulphates  \\\n",
       "0           7.5                47.0  3.04          14.95      0.49   \n",
       "1           8.0                23.0  3.32            9.6      0.47   \n",
       "2           6.1                27.0  3.07            3.9      0.34   \n",
       "3           7.2                 3.0  3.04            5.0      0.53   \n",
       "4           8.3                18.0   3.2           1.15      0.32   \n",
       "\n",
       "  total_sulfur_dioxide volatile_acidity  \n",
       "0                178.0             0.29  \n",
       "1                159.0             0.23  \n",
       "2                113.0             0.38  \n",
       "3                 29.0             0.31  \n",
       "4                 96.0             0.33  "
      ]
     },
     "execution_count": 8,
     "metadata": {},
     "output_type": "execute_result"
    }
   ],
   "source": [
    "# Viewing the cases in a given casebase\n",
    "obj.getAllCasesFromCaseBase(concept, 'cb_class0').head()\n",
    "# obj.getAllCasesFromCaseBase(concept, 'cb_class1').head()\n",
    "# bj.getAllCasesFromCaseBase(concept, 'cb_class2').head()"
   ]
  },
  {
   "cell_type": "code",
   "execution_count": 9,
   "id": "0f07d6f1",
   "metadata": {},
   "outputs": [],
   "source": [
    "# Read and cast shap values to string for creating json objects (for newAmalgamationFunc)\n",
    "s0 = pd.read_csv(\"./shap_val/shap0.csv\", index_col='col_name').iloc[:-1]\n",
    "str_map0 = str(s0.to_dict()['shap']).replace(\"'\",'\"')\n",
    "\n",
    "s1 = pd.read_csv(\"./shap_val/shap1.csv\", index_col='col_name').iloc[:-1]\n",
    "str_map1 = str(s1.to_dict()['shap']).replace(\"'\",'\"')\n",
    "\n",
    "s2 = pd.read_csv(\"./shap_val/shap2.csv\", index_col='col_name').iloc[:-1]\n",
    "str_map2 = str(s2.to_dict()['shap']).replace(\"'\",'\"')"
   ]
  },
  {
   "cell_type": "code",
   "execution_count": 10,
   "id": "52acfb19",
   "metadata": {},
   "outputs": [
    {
     "data": {
      "text/plain": [
       "<Response [200]>"
      ]
     },
     "execution_count": 10,
     "metadata": {},
     "output_type": "execute_result"
    }
   ],
   "source": [
    "# Set amalgamation functions for each casebase\n",
    "newAmalgamationFunc(concept,'amal_func_class0', 'WEIGHTED_SUM', str_map0)\n",
    "newAmalgamationFunc(concept,'amal_func_class1', 'WEIGHTED_SUM', str_map1)\n",
    "newAmalgamationFunc(concept,'amal_func_class2', 'WEIGHTED_SUM', str_map2)"
   ]
  }
 ],
 "metadata": {
  "kernelspec": {
   "display_name": "Python 3 (ipykernel)",
   "language": "python",
   "name": "python3"
  },
  "language_info": {
   "codemirror_mode": {
    "name": "ipython",
    "version": 3
   },
   "file_extension": ".py",
   "mimetype": "text/x-python",
   "name": "python",
   "nbconvert_exporter": "python",
   "pygments_lexer": "ipython3",
   "version": "3.9.10"
  }
 },
 "nbformat": 4,
 "nbformat_minor": 5
}
